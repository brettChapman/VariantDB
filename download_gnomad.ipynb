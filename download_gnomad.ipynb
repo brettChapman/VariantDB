{
 "cells": [
  {
   "cell_type": "code",
   "execution_count": null,
   "id": "9ee4455f",
   "metadata": {},
   "outputs": [],
   "source": [
    "from gnomad_db.database import gnomAD_DB\n",
    "database_dir = \"/Users/brettchapman/gnomeAD_DB\" #Specify the location where to download the gnomad database to\n",
    "download_link = \"https://zenodo.org/record/6818606/files/gnomad_db_v3.1.2.sqlite3.gz?download=1\" #the URL where the SQLite DB resides\n",
    "gnomAD_DB.download_and_unzip(download_link, database_dir)"
   ]
  }
 ],
 "metadata": {
  "kernelspec": {
   "display_name": "Python 3 (ipykernel)",
   "language": "python",
   "name": "python3"
  },
  "language_info": {
   "codemirror_mode": {
    "name": "ipython",
    "version": 3
   },
   "file_extension": ".py",
   "mimetype": "text/x-python",
   "name": "python",
   "nbconvert_exporter": "python",
   "pygments_lexer": "ipython3",
   "version": "3.11.4"
  }
 },
 "nbformat": 4,
 "nbformat_minor": 5
}
